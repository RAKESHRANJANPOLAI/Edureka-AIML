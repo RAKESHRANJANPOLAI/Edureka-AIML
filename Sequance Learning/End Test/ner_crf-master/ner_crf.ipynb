{
 "cells": [
  {
   "cell_type": "markdown",
   "metadata": {},
   "source": [
    "# CRF-based Named Entity Recognition"
   ]
  },
  {
   "cell_type": "markdown",
   "metadata": {},
   "source": [
    "### Steve Neale - 2018"
   ]
  },
  {
   "cell_type": "markdown",
   "metadata": {},
   "source": [
    "This notebook describes named entity recognition (NER) using conditional random fields or 'CRFs', which are very popular for this task. I've implemented the model using scikit-learn's 'sklearn-crfsuite' library."
   ]
  },
  {
   "cell_type": "code",
   "execution_count": 1,
   "metadata": {},
   "outputs": [],
   "source": [
    "import math\n",
    "import warnings\n",
    "\n",
    "import pyprind\n",
    "\n",
    "import pandas as pd\n",
    "import numpy as np\n",
    "\n",
    "from sklearn.model_selection import train_test_split\n",
    "from sklearn.model_selection import learning_curve\n",
    "from sklearn.model_selection import RandomizedSearchCV\n",
    "from sklearn_crfsuite import CRF\n",
    "from sklearn_crfsuite import metrics\n",
    "from sklearn.metrics import make_scorer\n",
    "from sklearn.exceptions import UndefinedMetricWarning\n",
    "\n",
    "from model_plots import plot_learning_curve"
   ]
  },
  {
   "cell_type": "markdown",
   "metadata": {},
   "source": [
    "## Load the NER dataset into a Pandas DataFrame"
   ]
  },
  {
   "cell_type": "markdown",
   "metadata": {},
   "source": [
    "First, the data is loaded into a Pandas DataFrame. This can be done easily using the `read_csv` function, specifying that the separator is a space. It's also useful to keep the blank lines, which are helpful later for determining the sentence breaks.\n",
    "\n",
    "Once the data is loaded into a DataFrame, the easy access we have to columns allows a couple of useful things to be done - group the data by the \"ne\" column to see the distributions of each tag, and extract the classes (disregarding 'O' and blank lines with NaN values) as a list."
   ]
  },
  {
   "cell_type": "code",
   "execution_count": 3,
   "metadata": {},
   "outputs": [
    {
     "name": "stdout",
     "output_type": "stream",
     "text": [
      "       ne  counts\n",
      "0   B-LOC    7140\n",
      "1  B-MISC    3438\n",
      "2   B-ORG    6321\n",
      "3   B-PER    6600\n",
      "4   I-LOC    1157\n",
      "5  I-MISC    1155\n",
      "6   I-ORG    3704\n",
      "7   I-PER    4528\n",
      "8       O  168346\n"
     ]
    }
   ],
   "source": [
    "# Read the NER data using spaces as separators, keeping blank lines and adding columns\n",
    "ner_data = pd.read_csv(\"./data/conll2003/train.txt\", sep=\" \", header=None, skip_blank_lines=False, encoding=\"utf-8\")\n",
    "ner_data.columns = [\"token\", \"pos\", \"chunk\", \"ne\"]\n",
    "\n",
    "# Explore the distribution of NE tags in the dataset\n",
    "tag_distribution = ner_data.groupby(\"ne\").size().reset_index(name='counts')\n",
    "print(tag_distribution)"
   ]
  },
  {
   "cell_type": "code",
   "execution_count": 4,
   "metadata": {},
   "outputs": [
    {
     "name": "stdout",
     "output_type": "stream",
     "text": [
      "['B-ORG', 'B-MISC', 'B-PER', 'I-PER', 'B-LOC', 'I-ORG', 'I-MISC', 'I-LOC']\n"
     ]
    }
   ],
   "source": [
    "# Extract the useful classes (not 'O' or NaN values) as a list\n",
    "classes = list(filter(lambda x: x not in [\"O\", np.nan], list(ner_data[\"ne\"].unique())))\n",
    "\n",
    "print(classes)"
   ]
  },
  {
   "cell_type": "markdown",
   "metadata": {},
   "source": [
    "## Extract sentences from the dataset"
   ]
  },
  {
   "cell_type": "markdown",
   "metadata": {},
   "source": [
    "Next, sentences need to be extracted from the data - it's useful to have the sentences as a list of lists, with each sublist containing the token, POS tag, syntactic chunk, and NE label for every word token in the sentence."
   ]
  },
  {
   "cell_type": "code",
   "execution_count": 5,
   "metadata": {},
   "outputs": [
    {
     "name": "stderr",
     "output_type": "stream",
     "text": [
      "0% [##############################] 100% | ETA: 00:00:00\n",
      "Total time elapsed: 00:00:24\n"
     ]
    }
   ],
   "source": [
    "# Create a sentences dictionary and an initial single sentence dictionary\n",
    "sentences, sentence = [], []\n",
    "# Create a progress bar\n",
    "pbar = pyprind.ProgBar(len(ner_data))\n",
    "# For each row in the NER data...\n",
    "for index, row in ner_data.iterrows():\n",
    "    # If the row is empty (no string in the token column)\n",
    "    if type(row[\"token\"]) != str:\n",
    "        # If the current sentence is not empty, append it to the sentences and create a new sentence\n",
    "        if len(sentence) > 0:\n",
    "            sentences.append(sentence)\n",
    "            sentence = []\n",
    "    # Otherwise...\n",
    "    else:\n",
    "        # If the row does not indicate the start of a document, add the token to the current sentence\n",
    "        if type(row[\"token\"]) != float and type(row[\"pos\"]) != float and type(row[\"ne\"]) != float:\n",
    "            if not row[\"token\"].startswith(\"-DOCSTART-\"):\n",
    "                sentence.append([row[\"token\"], row[\"pos\"], row[\"chunk\"], row[\"ne\"]])\n",
    "    pbar.update()"
   ]
  },
  {
   "cell_type": "markdown",
   "metadata": {},
   "source": [
    "## Extract sentence features"
   ]
  },
  {
   "cell_type": "markdown",
   "metadata": {},
   "source": [
    "The 'sklearn-crfsuite' website provides a tutorial on their CRF model, which contains example code for extracting word features as a dictionary ready-formatted for use with the model. The function below is based on their model, making use of:\n",
    "\n",
    "* Current words\n",
    "* Previous words\n",
    "* Next words\n",
    "* Current POS tags\n",
    "* Previous and next POS tags\n",
    "\n",
    "These features are all used in the Stanford NLP group's work on using CRFs for NER (Finkel et al., 2005). They also make use of a 'current word shape' feature, which generally shows the upper-cased letters, lower-cased letters, and digits that make up a word (For example, 'CoNLL-2003' => 'XxXXX-dddd'). In the 'sclearn-crfsuite' implementation below, the 'word.isupper()', 'word.istitle()', and 'word.isdigit()' features are used in place of this.\n",
    "\n",
    "The function below has also had a flag added to it to include chunk tags from the training data as features, for the current, previous, and next words."
   ]
  },
  {
   "cell_type": "code",
   "execution_count": 6,
   "metadata": {},
   "outputs": [],
   "source": [
    "def word_features(sentence, i, use_chunks=False):\n",
    "    # Get the current word and POS\n",
    "    word = sentence[i][0]\n",
    "    pos = sentence[i][1]\n",
    "    # Create a feature dictionary, based on characteristics of the current word and POS\n",
    "    features = { \"bias\": 1.0,\n",
    "                 \"word.lower()\": word.lower(),\n",
    "                 \"word[-3:]\": word[-3:],\n",
    "                 \"word[-2:]\": word[-2:],\n",
    "                 \"word.isupper()\": word.isupper(),\n",
    "                 \"word.istitle()\": word.istitle(),\n",
    "                 \"word.isdigit()\": word.isdigit(),\n",
    "                 \"pos\": pos,\n",
    "                 \"pos[:2]\": pos[:2],\n",
    "               }\n",
    "    # If chunks are being used, add the current chunk to the feature dictionary\n",
    "    if use_chunks:\n",
    "        chunk = sentence[i][2]\n",
    "        features.update({ \"chunk\": chunk })\n",
    "    # If this is not the first word in the sentence...\n",
    "    if i > 0:\n",
    "        # Get the sentence's previous word and POS\n",
    "        prev_word = sentence[i-1][0]\n",
    "        prev_pos = sentence[i-1][1]\n",
    "        # Add characteristics of the sentence's previous word and POS to the feature dictionary\n",
    "        features.update({ \"-1:word.lower()\": prev_word.lower(),\n",
    "                          \"-1:word.istitle()\": prev_word.istitle(),\n",
    "                          \"-1:word.isupper()\": prev_word.isupper(),\n",
    "                          \"-1:pos\": prev_pos,\n",
    "                          \"-1:pos[:2]\": prev_pos[:2],\n",
    "                        })\n",
    "        # If chunks are being used, add the previous chunk to the feature dictionary\n",
    "        if use_chunks:\n",
    "            prev_chunk = sentence[i-1][2]\n",
    "            features.update({ \"-1:chunk\": prev_chunk })\n",
    "    # Otherwise, add 'BOS' (beginning of sentence) to the feature dictionary\n",
    "    else:\n",
    "        features[\"BOS\"] = True\n",
    "    # If this is not the last word in the sentence...\n",
    "    if i < len(sentence)-1:\n",
    "        # Get the sentence's next word and POS\n",
    "        next_word = sentence[i+1][0]\n",
    "        next_pos = sentence[i+1][1]\n",
    "        # Add characteristics of the sentence's previous next and POS to the feature dictionary\n",
    "        features.update({ \"+1:word.lower()\": next_word.lower(),\n",
    "                          \"+1:word.istitle()\": next_word.istitle(),\n",
    "                          \"+1:word.isupper()\": next_word.isupper(),\n",
    "                          \"+1:pos\": next_pos,\n",
    "                          \"+1:pos[:2]\": next_pos[:2],\n",
    "                        })\n",
    "        # If chunks are being used, add the next chunk to the feature dictionary\n",
    "        if use_chunks:\n",
    "            next_chunk = sentence[i+1][2]\n",
    "            features.update({ \"+1:chunk\": next_chunk })\n",
    "    # Otherwise, add 'EOS' (end of sentence) to the feature dictionary\n",
    "    else:\n",
    "        features[\"EOS\"] = True\n",
    "    # Return the feature dictionary\n",
    "    return features"
   ]
  },
  {
   "cell_type": "markdown",
   "metadata": {},
   "source": [
    "Using the word_features function, a list of feature dictionaries for each word token in a sentence can be extracted, corresponding to a list of NE labels for each word token in a sentence."
   ]
  },
  {
   "cell_type": "code",
   "execution_count": 7,
   "metadata": {},
   "outputs": [],
   "source": [
    "# Return a feature dictionary for each word in a given sentence\n",
    "def sentence_features(sentence, use_chunks=False):\n",
    "    return [word_features(sentence, i, use_chunks) for i in range(len(sentence))]\n",
    "\n",
    "# Return the label (NER tag) for each word in a given sentence\n",
    "def sentence_labels(sentence):\n",
    "    return [label for token, pos, chunk, label in sentence]"
   ]
  },
  {
   "cell_type": "markdown",
   "metadata": {},
   "source": [
    "## Split the sentences into training and test sets"
   ]
  },
  {
   "cell_type": "markdown",
   "metadata": {},
   "source": [
    "Using the predefined functions, X and y can be extracted as lists of feature dictionaries for each word token in each sentence, and as lists of NE labels for each word token in each sentence, respectively. scikit-learn's 'test_train_split' function can then be used to split X and y into training and test sets, split 80% training to 20% test."
   ]
  },
  {
   "cell_type": "code",
   "execution_count": 8,
   "metadata": {},
   "outputs": [
    {
     "name": "stdout",
     "output_type": "stream",
     "text": [
      "First token features:\n",
      "---------------------\n",
      "{'+1:word.lower()': 'entire', '+1:word.istitle()': False, 'word.lower()': 'the', 'pos': 'DT', 'word[-3:]': 'The', 'BOS': True, 'word.isupper()': False, 'word.istitle()': True, 'bias': 1.0, '+1:pos': 'JJ', '+1:word.isupper()': False, 'word[-2:]': 'he', '+1:pos[:2]': 'JJ', 'word.isdigit()': False, 'pos[:2]': 'DT'}\n",
      "\n",
      "First token label:\n",
      "------------------\n",
      "O\n"
     ]
    }
   ],
   "source": [
    "# For each sentence, extract the sentence features as X, and the labels as y\n",
    "X = [sentence_features(sentence) for sentence in sentences]\n",
    "y = [sentence_labels(sentence) for sentence in sentences]\n",
    "\n",
    "# Split X and y into training (80%) and test (20%) sets\n",
    "X_train, X_test, y_train, y_test = train_test_split(X, y, test_size=0.2, random_state=0)\n",
    "\n",
    "print(\"First token features:\\n{}\\n{}\".format(\"-\"*21, X_train[0][0]))\n",
    "print(\"\\nFirst token label:\\n{}\\n{}\".format(\"-\"*18, y_train[0][0]))"
   ]
  },
  {
   "cell_type": "markdown",
   "metadata": {},
   "source": [
    "## Train a CRF model"
   ]
  },
  {
   "cell_type": "markdown",
   "metadata": {},
   "source": [
    "The training data can now be used to train a CRF (conditional random fields) model to map the feature dictionaries to output NE labels. CRF's have been a popular choice for training named entity recognition models following the success of the Stanford NLP group's work on NER (Finkel et al., 2005). The model employs the gradient descent-based L-BFGS algorithm, and uses elastic net (C1+C2) regularisation."
   ]
  },
  {
   "cell_type": "code",
   "execution_count": 9,
   "metadata": {},
   "outputs": [
    {
     "data": {
      "text/plain": [
       "CRF(algorithm='lbfgs', all_possible_states=None,\n",
       "  all_possible_transitions=True, averaging=None, c=None, c1=0.1, c2=0.1,\n",
       "  calibration_candidates=None, calibration_eta=None,\n",
       "  calibration_max_trials=None, calibration_rate=None,\n",
       "  calibration_samples=None, delta=None, epsilon=None, error_sensitive=None,\n",
       "  gamma=None, keep_tempfiles=None, linesearch=None, max_iterations=100,\n",
       "  max_linesearch=None, min_freq=None, model_filename=None,\n",
       "  num_memories=None, pa_type=None, period=None, trainer_cls=None,\n",
       "  variance=None, verbose=False)"
      ]
     },
     "execution_count": 9,
     "metadata": {},
     "output_type": "execute_result"
    }
   ],
   "source": [
    "# Create a new CRF model\n",
    "crf = CRF(algorithm=\"lbfgs\",\n",
    "          c1=0.1,\n",
    "          c2=0.1,\n",
    "          max_iterations=100,\n",
    "          all_possible_transitions=True)\n",
    "\n",
    "# Train the CRF model on the supplied training data\n",
    "crf.fit(X_train, y_train)"
   ]
  },
  {
   "cell_type": "markdown",
   "metadata": {},
   "source": [
    "## Evalute the CRF model"
   ]
  },
  {
   "cell_type": "markdown",
   "metadata": {},
   "source": [
    "The trained model can now be used to make predictions based on the test data, which can in turn be compared to the expected labels from the test data to produce a classification report (precision, recall and F1 scores).\n",
    "\n",
    "The model is performing pretty well, with a 91% F1-score."
   ]
  },
  {
   "cell_type": "code",
   "execution_count": 11,
   "metadata": {},
   "outputs": [
    {
     "name": "stdout",
     "output_type": "stream",
     "text": [
      "             precision    recall  f1-score   support\n",
      "\n",
      "      B-ORG       0.91      0.88      0.90      1301\n",
      "     B-MISC       0.95      0.87      0.91       697\n",
      "      B-PER       0.92      0.92      0.92      1326\n",
      "      I-PER       0.93      0.96      0.95       894\n",
      "      B-LOC       0.93      0.93      0.93      1378\n",
      "      I-ORG       0.87      0.87      0.87       789\n",
      "     I-MISC       0.82      0.79      0.80       240\n",
      "      I-LOC       0.86      0.82      0.84       238\n",
      "\n",
      "avg / total       0.91      0.90      0.91      6863\n",
      "\n"
     ]
    }
   ],
   "source": [
    "# Use the CRF model to make predictions on the test data\n",
    "y_pred = crf.predict(X_test)\n",
    "print(metrics.flat_classification_report(y_test, y_pred, labels=classes))"
   ]
  },
  {
   "cell_type": "markdown",
   "metadata": {},
   "source": [
    "## Optimise the model's parameters"
   ]
  },
  {
   "cell_type": "markdown",
   "metadata": {},
   "source": [
    "It's useful to see if we can improve performance at all by tuning some of the model's parameters. In this case, we can experiment with different parameters for the C1 and C2 values used for the elastic net regularisation.\n",
    "\n",
    "To do this, we can employ a cross-validated randomised search - an exhaustive grid search of all parameter combinations can also be done using scikit-learn, but this can get really computationally intensive. By limiting the randomised search to 50 iterations (random parameter combinations) and using 3-fold cross validation, we are essentially fitting 150 models, which is already quite intensive.\n",
    "\n",
    "Following the optimisation, we can see that lower values (increased regularisation strength) for both C1 and C2 values result in the best performing model - particularly for C1."
   ]
  },
  {
   "cell_type": "code",
   "execution_count": 12,
   "metadata": {},
   "outputs": [
    {
     "name": "stdout",
     "output_type": "stream",
     "text": [
      "Fitting 3 folds for each of 50 candidates, totalling 150 fits\n"
     ]
    },
    {
     "name": "stderr",
     "output_type": "stream",
     "text": [
      "[Parallel(n_jobs=-1)]: Done  34 tasks      | elapsed:  2.4min\n",
      "[Parallel(n_jobs=-1)]: Done 150 out of 150 | elapsed:  9.9min finished\n"
     ]
    },
    {
     "name": "stdout",
     "output_type": "stream",
     "text": [
      "0.9007364726210794\n",
      "{'c1': 0.001, 'c2': 0.01}\n"
     ]
    }
   ],
   "source": [
    "# Set up a parameter grid to experiment with different values for C1 and C2\n",
    "param_range = [0.0001, 0.001, 0.01, 0.1, 1.0, 10.0, 100.0, 1000.0]\n",
    "param_grid = {\"c1\": param_range,\n",
    "              \"c2\": param_range}\n",
    "\n",
    "# Set up a bespoke scorer that will compare the cross validated models according to their F1 scores\n",
    "f1_scorer = make_scorer(metrics.flat_f1_score, average='weighted', labels=classes)\n",
    "\n",
    "# Perform a 3-fold cross-validated, randomised search of 50 combinations for different values for C1 and C2\n",
    "rs = RandomizedSearchCV(estimator=crf,\n",
    "                        param_distributions=param_grid,\n",
    "                        scoring=f1_scorer,\n",
    "                        cv=3,\n",
    "                        verbose=1,\n",
    "                        n_iter=50,\n",
    "                        n_jobs=-1)\n",
    "\n",
    "# Train the models in the randomised search, ignoring any 'UndefinedMetricWarning' that comes up \n",
    "with warnings.catch_warnings():\n",
    "    warnings.filterwarnings(\"ignore\", category=UndefinedMetricWarning)\n",
    "    rs.fit(X_train, y_train)\n",
    "\n",
    "# Print the model that scored highest in the randomised search, and the parameters it used\n",
    "print(rs.best_score_)\n",
    "print(rs.best_params_)"
   ]
  },
  {
   "cell_type": "markdown",
   "metadata": {},
   "source": [
    "## Evaluate the optimised CRF model on the test data"
   ]
  },
  {
   "cell_type": "markdown",
   "metadata": {},
   "source": [
    "Now, the optimised model can be used to make predictions based on the test data, which can in turn be compared to the expected labels from the test data to produce a classification report (precision, recall and F1 scores)\n",
    "\n",
    "The optimised model is performing slightly better, with precision, recall, and F1-score all having improved slightly."
   ]
  },
  {
   "cell_type": "code",
   "execution_count": 13,
   "metadata": {},
   "outputs": [
    {
     "name": "stdout",
     "output_type": "stream",
     "text": [
      "             precision    recall  f1-score   support\n",
      "\n",
      "      B-ORG       0.92      0.89      0.90      1301\n",
      "     B-MISC       0.95      0.89      0.91       697\n",
      "      B-PER       0.94      0.93      0.94      1326\n",
      "      I-PER       0.95      0.96      0.95       894\n",
      "      B-LOC       0.93      0.95      0.94      1378\n",
      "      I-ORG       0.89      0.88      0.88       789\n",
      "     I-MISC       0.84      0.80      0.82       240\n",
      "      I-LOC       0.87      0.83      0.85       238\n",
      "\n",
      "avg / total       0.92      0.91      0.92      6863\n",
      "\n"
     ]
    }
   ],
   "source": [
    "# Replace the CRF model with the best model from the randomised search\n",
    "crf = rs.best_estimator_\n",
    "\n",
    "y_pred = crf.predict(X_test)\n",
    "print(metrics.flat_classification_report(y_test, y_pred, labels=classes))"
   ]
  },
  {
   "cell_type": "markdown",
   "metadata": {},
   "source": [
    "## Create new training and test data using chunks as features"
   ]
  },
  {
   "cell_type": "markdown",
   "metadata": {},
   "source": [
    "Seeing as there are syntactic chunks included in our dataset, let's see if they make a difference when included as additional features in the training data. As before, the predefined functions can be used to extract X and y - lists of feature dictionaries for each word token in each sentence, and lists of NE labels for each word token in each sentence, respectively. This time, however, the 'use_chunks' flag has been set when extracting X.\n",
    "\n",
    "scikit-learn's 'test_train_split' function is again used to split X and y into training and test sets, split 80% training to 20% test."
   ]
  },
  {
   "cell_type": "code",
   "execution_count": 14,
   "metadata": {},
   "outputs": [
    {
     "name": "stdout",
     "output_type": "stream",
     "text": [
      "First token features:\n",
      "---------------------\n",
      "{'chunk': 'B-NP', 'word.lower()': 'the', 'word[-3:]': 'The', 'bias': 1.0, '+1:pos': 'JJ', 'word[-2:]': 'he', '+1:pos[:2]': 'JJ', 'word.isdigit()': False, '+1:chunk': 'I-NP', '+1:word.istitle()': False, '+1:word.lower()': 'entire', '+1:word.isupper()': False, 'pos': 'DT', 'BOS': True, 'word.isupper()': False, 'word.istitle()': True, 'pos[:2]': 'DT'}\n",
      "\n",
      "First token label:\n",
      "------------------\n",
      "O\n"
     ]
    }
   ],
   "source": [
    "# For each sentence, extract the sentence features as X, and the labels as y\n",
    "X = [sentence_features(sentence, use_chunks=True) for sentence in sentences]\n",
    "y = [sentence_labels(sentence) for sentence in sentences]\n",
    "\n",
    "# Split X and y into training (80%) and test (20%) sets\n",
    "X_train, X_test, y_train, y_test = train_test_split(X, y, test_size=0.2, random_state=0)\n",
    "\n",
    "print(\"First token features:\\n{}\\n{}\".format(\"-\"*21, X_train[0][0]))\n",
    "print(\"\\nFirst token label:\\n{}\\n{}\".format(\"-\"*18, y_train[0][0]))"
   ]
  },
  {
   "cell_type": "markdown",
   "metadata": {},
   "source": [
    "## Train and evalute the optimised model using the w/chunks dataset"
   ]
  },
  {
   "cell_type": "markdown",
   "metadata": {},
   "source": [
    "After training the optimised model on the training data that includes the chunks, predictions are made based on the test data, and then used to produce a classification report (precision, recall and F1 scores) by comparing it with the labels from the test data.\n",
    "\n",
    "The optimised model trained on the test data performs slightly better again, with precision now having risen to 93%."
   ]
  },
  {
   "cell_type": "code",
   "execution_count": 15,
   "metadata": {},
   "outputs": [
    {
     "name": "stdout",
     "output_type": "stream",
     "text": [
      "             precision    recall  f1-score   support\n",
      "\n",
      "      B-ORG       0.92      0.89      0.91      1301\n",
      "     B-MISC       0.95      0.88      0.91       697\n",
      "      B-PER       0.94      0.94      0.94      1326\n",
      "      I-PER       0.95      0.97      0.96       894\n",
      "      B-LOC       0.93      0.94      0.94      1378\n",
      "      I-ORG       0.89      0.88      0.88       789\n",
      "     I-MISC       0.82      0.80      0.81       240\n",
      "      I-LOC       0.88      0.83      0.86       238\n",
      "\n",
      "avg / total       0.93      0.91      0.92      6863\n",
      "\n"
     ]
    }
   ],
   "source": [
    "# Retrain the CRF model on the new training data\n",
    "crf.fit(X_train, y_train)\n",
    "\n",
    "# Use the CRF model to make predictions on the test data\n",
    "y_pred = crf.predict(X_test)\n",
    "print(metrics.flat_classification_report(y_test, y_pred, labels=classes))"
   ]
  },
  {
   "cell_type": "markdown",
   "metadata": {},
   "source": [
    "## Plot learning curves for the optimised model (w/chunks dataset)"
   ]
  },
  {
   "cell_type": "markdown",
   "metadata": {},
   "source": [
    "The performance of the model can be evaluated using a learning curve, plotting the accuracy of predictions on the training and test datasets as more training data is fed to the model. As we'd expect, the accuracy on the test data increases with the number of training samples."
   ]
  },
  {
   "cell_type": "code",
   "execution_count": 16,
   "metadata": {},
   "outputs": [
    {
     "name": "stdout",
     "output_type": "stream",
     "text": [
      "[learning_curve] Training set sizes: [ 748 1497 2246 2995 3744 4492 5241 5990 6739 7488]\n"
     ]
    },
    {
     "name": "stderr",
     "output_type": "stream",
     "text": [
      "[Parallel(n_jobs=-1)]: Done  30 out of  30 | elapsed:  1.5min finished\n"
     ]
    },
    {
     "data": {
      "image/png": "[encoded data removed]",
      "text/plain": [
       "<Figure size 432x288 with 1 Axes>"
      ]
     },
     "metadata": {
      "needs_background": "light"
     },
     "output_type": "display_data"
    }
   ],
   "source": [
    "# Produce the necessary data for a learning curve\n",
    "train_sizes, train_scores, test_scores = learning_curve(estimator=crf,\n",
    "                                                        X=X_train,\n",
    "                                                        y=y_train,\n",
    "                                                        train_sizes=np.linspace(0.1, 1.0, 10),\n",
    "                                                        cv=3,\n",
    "                                                        verbose=1,\n",
    "                                                        n_jobs=-1)\n",
    "\n",
    "# Find the means and standard deviations of the training and test datasets across the learning curve\n",
    "train_mean = np.mean(train_scores, axis=1)\n",
    "train_std = np.std(train_scores, axis=1)\n",
    "test_mean = np.mean(test_scores, axis=1)\n",
    "test_std = np.std(test_scores, axis=1)\n",
    "\n",
    "# Plot the learning curve\n",
    "plot_learning_curve(train_sizes, train_mean, train_std, test_mean, test_std)"
   ]
  },
  {
   "cell_type": "markdown",
   "metadata": {},
   "source": [
    "There is still a bit of a gap between the test and training accuracy, suggesting that the model is perhaps a little overfit to the training data. More training data, or experimentation with new/different feature combinations might negate this going forwards. Features that could be added or experimented with might include:\n",
    "\n",
    "* Character n-grams (used for current words by Finkel et al. (2005))\n",
    "* True word shapes (current implementation only returns whether the whole word is made of upper-cased letters of digits, or if the word starts with a capital letter, but doesn't flag words that combine upper/lower-cased letter and digits)\n",
    "* Presence of the current word in a left or right window of given size (used by Finkel et al. (2005))\n",
    "* The value of the current word bias (currently left at 1.0 for every word)"
   ]
  },
  {
   "cell_type": "markdown",
   "metadata": {},
   "source": [
    "# References"
   ]
  },
  {
   "cell_type": "markdown",
   "metadata": {},
   "source": [
    "Finkel, J.R., Grenager, T. & Manning, C. (2005). 'Incorporating Non-local Information into Information Extraction Systems by Gibbs Sampling'. In Proceedings of the 43rd Annual Meeting of the Association for Computational Linguistics (ACL '05). pp. 363–370.\n",
    "\n",
    "sklearn-crfsuite (n.d.). 'Tutorial - scklearn-crfsuite 0.3 documentation' [https://sklearn-crfsuite.readthedocs.io/en/latest/tutorial.html#features]. Accessed 2018-11-30."
   ]
  }
 ],
 "metadata": {
  "kernelspec": {
   "display_name": "Python 3",
   "language": "python",
   "name": "python3"
  },
  "language_info": {
   "codemirror_mode": {
    "name": "ipython",
    "version": 3
   },
   "file_extension": ".py",
   "mimetype": "text/x-python",
   "name": "python",
   "nbconvert_exporter": "python",
   "pygments_lexer": "ipython3",
   "version": "3.5.2"
  }
 },
 "nbformat": 4,
 "nbformat_minor": 2
}
